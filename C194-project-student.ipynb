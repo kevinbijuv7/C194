{
 "cells": [
  {
   "cell_type": "code",
   "execution_count": 166,
   "metadata": {},
   "outputs": [
    {
     "name": "stdout",
     "output_type": "stream",
     "text": [
      "Name : \n",
      "We will be cleaning the big data and make a comparison to show who has a healthier heart smokers OR non smokers, uisng a line graph\n",
      "Also we will be deriviring which age group has the high chances of coronary heart disease in 10 years\n"
     ]
    }
   ],
   "source": [
    "print(\"Name : \")\n",
    "print(\"We will be cleaning the big data and make a comparison to show who has a healthier heart smokers OR non smokers, uisng a line graph\")\n",
    "print(\"Also we will be deriviring which age group has the high chances of coronary heart disease in 10 years\")\n"
   ]
  },
  {
   "cell_type": "markdown",
   "metadata": {},
   "source": [
    "# Task 1 - Plot a line graph to show the difference between heart rate of smokers and non smokers"
   ]
  },
  {
   "cell_type": "code",
   "execution_count": 1,
   "metadata": {},
   "outputs": [],
   "source": [
    "#Import libraries\n",
    "import pandas as pd\n",
    "import matplotlib.pyplot as plt \n",
    "\n",
    "#read the csv\n",
    "df = pd.read_csv('framingham.csv')\n",
    "df"
   ]
  },
  {
   "cell_type": "code",
   "execution_count": 2,
   "metadata": {},
   "outputs": [],
   "source": [
    "#Filter and make a new dataframe for non smokers\n",
    "\n",
    "non_smokers = df.loc[df['currentSmoker'] == 0]\n",
    "\n",
    "non_smokers"
   ]
  },
  {
   "cell_type": "code",
   "execution_count": 3,
   "metadata": {},
   "outputs": [],
   "source": [
    "#Group by age column and find average heart rate at different age among the non smokers\n",
    "\n",
    "group_non_smokers = non_smokers.groupby('age')['heartRate'].mean().reset_index()     \n",
    "\n",
    "group_non_smokers"
   ]
  },
  {
   "cell_type": "code",
   "execution_count": 4,
   "metadata": {},
   "outputs": [],
   "source": [
    "#Filter and make a new dataframe for smokers\n",
    "smokers = df.loc[df['currentSmoker'] == 1]\n",
    "smokers"
   ]
  },
  {
   "cell_type": "code",
   "execution_count": 5,
   "metadata": {},
   "outputs": [],
   "source": [
    "\n",
    "#Group by age column and find average heart rate at different age among the smokers\n",
    "group_smokers = smokers.groupby('age')['heartRate'].mean().reset_index()       \n",
    "group_smokers"
   ]
  },
  {
   "cell_type": "code",
   "execution_count": 6,
   "metadata": {},
   "outputs": [],
   "source": [
    "#Plot a line graph to show the heart rate of smokers vs non smokers\n",
    "\n",
    "plt.figure(figsize=(20, 8))\n",
    "plt.plot(group_non_smokers['age'], group_non_smokers['heartRate'], label = \"Non Smokers\", linewidth=3.0)\n",
    "\n",
    "plt.plot(group_smokers['age'], group_smokers['heartRate'], label = \"Smokers\", linewidth=3.0)\n",
    "\n",
    "plt.xlabel('Age')\n",
    "plt.ylabel('Heart Rate')\n",
    "plt.xticks(rotation='vertical')\n",
    "\n",
    "plt.title('Correlation between the heart rate of smokers and non smokers using line graph', fontsize=20)\n",
    "\n",
    "plt.legend()\n",
    "\n",
    "plt.show()"
   ]
  },
  {
   "cell_type": "markdown",
   "metadata": {},
   "source": [
    "Conslusion - "
   ]
  },
  {
   "cell_type": "markdown",
   "metadata": {},
   "source": [
    "# Task 2 - Which age group have high chances of having coronary heart disease in 10 years"
   ]
  },
  {
   "cell_type": "code",
   "execution_count": 7,
   "metadata": {},
   "outputs": [],
   "source": [
    "#Read the csv\n",
    "\n",
    "#Filter and make a new dataframe for those who has chances of having coronary heart disease in 10 years\n"
   ]
  },
  {
   "cell_type": "code",
   "execution_count": 8,
   "metadata": {},
   "outputs": [],
   "source": [
    "#Group by age column and count the rows of TenYearCHD column\n"
   ]
  },
  {
   "cell_type": "code",
   "execution_count": 9,
   "metadata": {},
   "outputs": [],
   "source": [
    "#Plot a line graph to show total number of people having a chance of coronary heart disease in 10 years\n"
   ]
  },
  {
   "cell_type": "markdown",
   "metadata": {},
   "source": [
    "Conslusion - "
   ]
  },
  {
   "cell_type": "code",
   "execution_count": null,
   "metadata": {},
   "outputs": [],
   "source": []
  }
 ],
 "metadata": {
  "kernelspec": {
   "display_name": "Python 3 (ipykernel)",
   "language": "python",
   "name": "python3"
  },
  "language_info": {
   "codemirror_mode": {
    "name": "ipython",
    "version": 3
   },
   "file_extension": ".py",
   "mimetype": "text/x-python",
   "name": "python",
   "nbconvert_exporter": "python",
   "pygments_lexer": "ipython3",
   "version": "3.11.4"
  }
 },
 "nbformat": 4,
 "nbformat_minor": 4
}
